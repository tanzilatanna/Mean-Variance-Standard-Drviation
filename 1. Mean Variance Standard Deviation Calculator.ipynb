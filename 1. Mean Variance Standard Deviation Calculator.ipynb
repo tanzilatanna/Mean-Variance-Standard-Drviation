{
 "cells": [
  {
   "cell_type": "code",
   "execution_count": 2,
   "id": "e4436fd3",
   "metadata": {},
   "outputs": [],
   "source": [
    "#Create a function named calculate() in mean_var_std.py that \n",
    "#uses Numpy to output the mean, variance, standard deviation, max, min, and sum of the rows, \n",
    "#columns, and elements in a 3 x 3 matrix.\n",
    "#The input of the function should be a list containing 9 digits. \n",
    "#The function should convert the list into a 3 x 3 Numpy array, and then return a dictionary containing the mean, \n",
    "#variance, standard deviation, max, min, and sum along both axes and for the flattened matrix."
   ]
  },
  {
   "cell_type": "code",
   "execution_count": 6,
   "id": "9c4a5bb9",
   "metadata": {},
   "outputs": [],
   "source": [
    "import numpy as np"
   ]
  },
  {
   "cell_type": "code",
   "execution_count": null,
   "id": "14ae3957",
   "metadata": {},
   "outputs": [],
   "source": [
    "#step 1: Converting the list into 3 X 3 matrix"
   ]
  },
  {
   "cell_type": "code",
   "execution_count": 7,
   "id": "665471df",
   "metadata": {},
   "outputs": [
    {
     "name": "stdout",
     "output_type": "stream",
     "text": [
      "[[0 1 2]\n",
      " [3 4 5]\n",
      " [6 7 8]]\n"
     ]
    }
   ],
   "source": [
    "list =[0,1,2,3,4,5,6,7,8]\n",
    "num_array= np.array(list).reshape([3,3])\n",
    "print(num_array)"
   ]
  },
  {
   "cell_type": "code",
   "execution_count": 8,
   "id": "ca74e69d",
   "metadata": {},
   "outputs": [],
   "source": [
    "#calculating mean"
   ]
  },
  {
   "cell_type": "code",
   "execution_count": 13,
   "id": "da658561",
   "metadata": {},
   "outputs": [],
   "source": [
    "mean_row = num_array.mean(axis = 0).tolist()\n",
    "mean_col = num_array.mean(axis = 1).tolist()\n",
    "mean_val = num_array.mean()\n"
   ]
  },
  {
   "cell_type": "code",
   "execution_count": 14,
   "id": "4bf41db0",
   "metadata": {},
   "outputs": [],
   "source": [
    "#calculating variance"
   ]
  },
  {
   "cell_type": "code",
   "execution_count": 16,
   "id": "e724d8d6",
   "metadata": {},
   "outputs": [],
   "source": [
    "var_row =num_array.var(axis=0).tolist()\n",
    "var_col =num_array.var(axis=1).tolist()\n",
    "var_val=num_array.var()\n"
   ]
  },
  {
   "cell_type": "code",
   "execution_count": null,
   "id": "adaaf917",
   "metadata": {},
   "outputs": [],
   "source": [
    "#calculating standard deviation"
   ]
  },
  {
   "cell_type": "code",
   "execution_count": 17,
   "id": "346b890b",
   "metadata": {},
   "outputs": [],
   "source": [
    "std_row =num_array.std(axis=0).tolist()\n",
    "std_col=num_array.std(axis=1).tolist\n",
    "std_val =num_array.std()"
   ]
  },
  {
   "cell_type": "code",
   "execution_count": 18,
   "id": "87adc79d",
   "metadata": {},
   "outputs": [],
   "source": [
    "#calcluating max, min and sum across rows, columns and matrix"
   ]
  },
  {
   "cell_type": "code",
   "execution_count": 19,
   "id": "8ec8fd7b",
   "metadata": {},
   "outputs": [],
   "source": [
    "max_row =num_array.max(axis=0).tolist()\n",
    "max_col=num_array.max(axis=1).tolist\n",
    "max_val =num_array.max()\n",
    "\n",
    "min_row =num_array.min(axis=0).tolist()\n",
    "min_col=num_array.min(axis=1).tolist\n",
    "min_val =num_array.min()\n",
    "\n",
    "sum_row =num_array.sum(axis=0).tolist()\n",
    "sum_col=num_array.sum(axis=1).tolist\n",
    "sum_val =num_array.sum()"
   ]
  },
  {
   "cell_type": "code",
   "execution_count": 21,
   "id": "5ceb4e53",
   "metadata": {},
   "outputs": [],
   "source": [
    "#Converting the results into a dictionary and then printing it"
   ]
  },
  {
   "cell_type": "code",
   "execution_count": 24,
   "id": "fa3643f3",
   "metadata": {},
   "outputs": [],
   "source": [
    "calculations ={}\n",
    "calculations = {'mean':[mean_row, mean_col, mean_val],\n",
    "               'variance' :[var_row, var_col, var_val],\n",
    "                'standard deviation' : [std_row, std_col, std_val],\n",
    "                'min': [min_row, min_col, min_val],\n",
    "                'max':[max_row, max_col, max_val],\n",
    "                'sum': [sum_row,sum_col,sum_val]\n",
    "               }"
   ]
  },
  {
   "cell_type": "code",
   "execution_count": 25,
   "id": "9a761017",
   "metadata": {},
   "outputs": [
    {
     "name": "stdout",
     "output_type": "stream",
     "text": [
      "{'mean': [[3.0, 4.0, 5.0], [1.0, 4.0, 7.0], 4.0], 'variance': [[6.0, 6.0, 6.0], [0.6666666666666666, 0.6666666666666666, 0.6666666666666666], 6.666666666666667], 'standard deviation': [[2.449489742783178, 2.449489742783178, 2.449489742783178], <built-in method tolist of numpy.ndarray object at 0x00000177D334C570>, 2.581988897471611], 'min': [[0, 1, 2], <built-in method tolist of numpy.ndarray object at 0x00000177D0968570>, 0], 'max': [[6, 7, 8], <built-in method tolist of numpy.ndarray object at 0x00000177D31CDC30>, 8], 'sum': [[9, 12, 15], <built-in method tolist of numpy.ndarray object at 0x00000177D334C6F0>, 36]}\n"
     ]
    }
   ],
   "source": [
    "print(calculations)"
   ]
  }
 ],
 "metadata": {
  "kernelspec": {
   "display_name": "Python 3 (ipykernel)",
   "language": "python",
   "name": "python3"
  },
  "language_info": {
   "codemirror_mode": {
    "name": "ipython",
    "version": 3
   },
   "file_extension": ".py",
   "mimetype": "text/x-python",
   "name": "python",
   "nbconvert_exporter": "python",
   "pygments_lexer": "ipython3",
   "version": "3.9.12"
  }
 },
 "nbformat": 4,
 "nbformat_minor": 5
}
